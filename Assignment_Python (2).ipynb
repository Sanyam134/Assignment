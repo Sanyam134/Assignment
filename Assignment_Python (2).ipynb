{
  "cells": [
    {
      "cell_type": "markdown",
      "metadata": {
        "id": "FZd3on4X8pxF"
      },
      "source": [
        "Answer 3"
      ]
    },
    {
      "cell_type": "code",
      "execution_count": null,
      "metadata": {
        "id": "8dVUYC88Et0Y"
      },
      "outputs": [],
      "source": [
        "daily_sales = [150, 200, 180, 220, 170, 190, 210]\n"
      ]
    },
    {
      "cell_type": "code",
      "execution_count": null,
      "metadata": {
        "colab": {
          "base_uri": "https://localhost:8080/"
        },
        "id": "mQOVIdv4FQEh",
        "outputId": "7d37d77a-68ba-498a-a8f4-851b9bfab239"
      },
      "outputs": [
        {
          "name": "stdout",
          "output_type": "stream",
          "text": [
            "1320\n"
          ]
        }
      ],
      "source": [
        "#Total sales\n",
        "\n",
        "Total=sum(daily_sales)\n",
        "print(Total)"
      ]
    },
    {
      "cell_type": "code",
      "execution_count": null,
      "metadata": {
        "colab": {
          "base_uri": "https://localhost:8080/"
        },
        "id": "A6A-vKtPFluc",
        "outputId": "253d5a4c-5469-4fa6-d82d-1f1feaed5749"
      },
      "outputs": [
        {
          "name": "stdout",
          "output_type": "stream",
          "text": [
            "188.57142857142858\n"
          ]
        }
      ],
      "source": [
        "#Average\n",
        "\n",
        "Avg= Total/len(daily_sales)\n",
        "print(Avg)"
      ]
    },
    {
      "cell_type": "code",
      "execution_count": null,
      "metadata": {
        "colab": {
          "base_uri": "https://localhost:8080/"
        },
        "id": "C6mZQvL7893k",
        "outputId": "101b7df8-8a5f-4ccb-f28f-52ea0f705152"
      },
      "outputs": [
        {
          "name": "stdout",
          "output_type": "stream",
          "text": [
            "220\n"
          ]
        }
      ],
      "source": [
        "#Highest\n",
        "\n",
        "Highest=max(daily_sales)\n",
        "\n",
        "print(Highest)"
      ]
    },
    {
      "cell_type": "code",
      "execution_count": null,
      "metadata": {
        "colab": {
          "base_uri": "https://localhost:8080/"
        },
        "id": "H06cXpJzCtGB",
        "outputId": "ae1e439a-c80b-44dc-b6a3-d4a4f653358d"
      },
      "outputs": [
        {
          "name": "stdout",
          "output_type": "stream",
          "text": [
            "[200, 220, 190, 210]\n"
          ]
        }
      ],
      "source": [
        "#More than average\n",
        "\n",
        "above_average = [sales for sales in daily_sales if sales > Avg]\n",
        "\n",
        "print(above_average)"
      ]
    },
    {
      "cell_type": "code",
      "execution_count": null,
      "metadata": {
        "colab": {
          "base_uri": "https://localhost:8080/"
        },
        "id": "AJyP4QVXIjYk",
        "outputId": "8da67cc7-ae56-4b7c-d9d1-c057cb161e5c"
      },
      "outputs": [
        {
          "name": "stdout",
          "output_type": "stream",
          "text": [
            "[165.0, 220.00000000000003, 198.00000000000003, 242.00000000000003, 187.00000000000003, 209.00000000000003, 231.00000000000003]\n"
          ]
        }
      ],
      "source": [
        "#Increment\n",
        "\n",
        "Increment = [sales*1.1 for sales in daily_sales ]\n",
        "\n",
        "print(Increment)"
      ]
    },
    {
      "cell_type": "markdown",
      "metadata": {
        "id": "gGEKEBd6EmVi"
      },
      "source": [
        "Question 4"
      ]
    },
    {
      "cell_type": "code",
      "execution_count": null,
      "metadata": {
        "id": "6-rQQkFdEo2v"
      },
      "outputs": [],
      "source": [
        "scores = [75, 88, 92, 67, 88, 94, 73, 81, 78, 90]"
      ]
    },
    {
      "cell_type": "code",
      "execution_count": null,
      "metadata": {
        "colab": {
          "base_uri": "https://localhost:8080/"
        },
        "id": "pMZ0j7WYFjCh",
        "outputId": "160dea87-e914-498d-acca-2a5deb3612d4"
      },
      "outputs": [
        {
          "name": "stdout",
          "output_type": "stream",
          "text": [
            "826\n"
          ]
        }
      ],
      "source": [
        "#Sum\n",
        "\n",
        "Total=-0\n",
        "for score in scores:\n",
        "  Total = Total + score\n",
        "\n",
        "print(Total)\n"
      ]
    },
    {
      "cell_type": "code",
      "execution_count": null,
      "metadata": {
        "colab": {
          "base_uri": "https://localhost:8080/"
        },
        "id": "H21RjvWfGYvI",
        "outputId": "f3087430-06ea-45ee-c705-56324272dde4"
      },
      "outputs": [
        {
          "name": "stdout",
          "output_type": "stream",
          "text": [
            "82.6\n"
          ]
        }
      ],
      "source": [
        "#Average\n",
        "\n",
        "Average = 0\n",
        "for score in scores:\n",
        "  Average= Total/len(scores)\n",
        "\n",
        "print(Average)"
      ]
    },
    {
      "cell_type": "code",
      "execution_count": null,
      "metadata": {
        "colab": {
          "base_uri": "https://localhost:8080/"
        },
        "id": "Mm6FFXCGG0UH",
        "outputId": "88637f11-0bf0-446c-a42c-79818f7942f5"
      },
      "outputs": [
        {
          "name": "stdout",
          "output_type": "stream",
          "text": [
            "94\n"
          ]
        }
      ],
      "source": [
        "#Highest\n",
        "\n",
        "Highest = 0\n",
        "for score in scores:\n",
        "  if score > Highest:\n",
        "    Highest = score\n",
        "print(Highest)\n",
        "\n"
      ]
    },
    {
      "cell_type": "code",
      "execution_count": null,
      "metadata": {
        "colab": {
          "base_uri": "https://localhost:8080/"
        },
        "id": "TGv9rG7pIgky",
        "outputId": "a9cd72ef-383f-4dbe-da47-36abb873c873"
      },
      "outputs": [
        {
          "name": "stdout",
          "output_type": "stream",
          "text": [
            "5\n"
          ]
        }
      ],
      "source": [
        "#Above than Average\n",
        "\n",
        "count = 0\n",
        "for score in scores:\n",
        "  if score > Average:\n",
        "    count+=1\n",
        "print(count)\n"
      ]
    },
    {
      "cell_type": "code",
      "execution_count": null,
      "metadata": {
        "colab": {
          "base_uri": "https://localhost:8080/"
        },
        "id": "R3Q28nYCJHcu",
        "outputId": "0d8a9f87-2387-4a17-8f8e-6193a9e0802e"
      },
      "outputs": [
        {
          "name": "stdout",
          "output_type": "stream",
          "text": [
            "[67, 73, 75, 78, 81, 88, 88, 90, 92, 94]\n"
          ]
        }
      ],
      "source": [
        "#Ascending\n",
        "\n",
        "Sort_scores = sorted(scores)\n",
        "print(Sort_scores)"
      ]
    },
    {
      "cell_type": "markdown",
      "metadata": {
        "id": "wS49sdAXJryn"
      },
      "source": [
        "Answer 5"
      ]
    },
    {
      "cell_type": "code",
      "execution_count": null,
      "metadata": {
        "colab": {
          "base_uri": "https://localhost:8080/"
        },
        "id": "F3fNrMtlJoLV",
        "outputId": "77847e37-f8ac-4975-c839-18f0e9505a86"
      },
      "outputs": [
        {
          "name": "stdout",
          "output_type": "stream",
          "text": [
            "600\n"
          ]
        }
      ],
      "source": [
        "dict={\"a\":100, \"b\":200, \"c\":300}\n",
        "X=sum(dict.values())\n",
        "print(X)"
      ]
    },
    {
      "cell_type": "markdown",
      "metadata": {
        "id": "-y8lqzGkKt3M"
      },
      "source": [
        "Answer 6"
      ]
    },
    {
      "cell_type": "code",
      "execution_count": null,
      "metadata": {
        "colab": {
          "base_uri": "https://localhost:8080/"
        },
        "id": "hi1bi3n9Kvuj",
        "outputId": "b18672fd-b460-4b1d-ac56-3ad2ea3b04e5"
      },
      "outputs": [
        {
          "name": "stdout",
          "output_type": "stream",
          "text": [
            "3000\n"
          ]
        }
      ],
      "source": [
        "Income= 5000\n",
        "dict = {'rent':1500, 'grocery':600, 'utilities':200, 'transpotation':300, 'entertainment':400}\n",
        "\n",
        "Expenses=sum(dict.values())\n",
        "print(Expenses)"
      ]
    },
    {
      "cell_type": "code",
      "execution_count": null,
      "metadata": {
        "colab": {
          "base_uri": "https://localhost:8080/"
        },
        "id": "888cz1iTPDUm",
        "outputId": "b44e032c-c184-4c1d-ddab-e7b076e4610f"
      },
      "outputs": [
        {
          "name": "stdout",
          "output_type": "stream",
          "text": [
            "2000\n"
          ]
        }
      ],
      "source": [
        "#Remaining\n",
        "\n",
        "Remain = Income-Expenses\n",
        "print(Remain)"
      ]
    },
    {
      "cell_type": "code",
      "execution_count": null,
      "metadata": {
        "colab": {
          "base_uri": "https://localhost:8080/"
        },
        "id": "EdlmR20MPVe9",
        "outputId": "4357cf9f-b480-4a4b-8a2a-85004a06328c"
      },
      "outputs": [
        {
          "name": "stdout",
          "output_type": "stream",
          "text": [
            "1000.0\n"
          ]
        }
      ],
      "source": [
        "#Condition\n",
        "\n",
        "if Remain>0:\n",
        "  Savings= .5*Remain\n",
        "  print(Savings)\n",
        "\n",
        "  if Remain<0:\n",
        "    print(\"Warning\")"
      ]
    },
    {
      "cell_type": "markdown",
      "metadata": {
        "id": "A1zfu2ks-GPG"
      },
      "source": []
    },
    {
      "cell_type": "code",
      "execution_count": null,
      "metadata": {
        "id": "pYX3mJLa-FoB"
      },
      "outputs": [],
      "source": [
        "Answer 8"
      ]
    },
    {
      "cell_type": "code",
      "source": [
        "def is_even(num):\n",
        "  if num%2==0:\n",
        "    return True\n",
        "  else:\n",
        "    return False\n",
        "\n",
        "num=int(input('Please enter no.'))\n",
        "print(\"The number is even\", is_even(num))"
      ],
      "metadata": {
        "colab": {
          "base_uri": "https://localhost:8080/"
        },
        "id": "UHy43I4dz6WO",
        "outputId": "3b7155b8-5d98-4100-da8d-cb6db154ffc8"
      },
      "execution_count": 3,
      "outputs": [
        {
          "output_type": "stream",
          "name": "stdout",
          "text": [
            "Please enter no.55\n",
            "The number is even False\n"
          ]
        }
      ]
    },
    {
      "cell_type": "markdown",
      "source": [
        "1. ANSWER 1 --> Python is a programing/scripting language used in many areas such as research, data analysis, data science etc. Python is an Interpreted Programming Language where execution of code occurs simultaneously with the code.\n",
        "\n",
        "\n",
        "2. ANSWER 2 --> Built-in data types in Python are the datatypes which are supported by python language to perform any code or programme.Some of the built-in data types in Python are Numerical, Sequence, Boolean, Dictionary and Set.The built in data are those which do not need any external code nor need to be defined in a programme to execute.\n",
        "\n",
        "7. ANSWER 7 --> In python functions are block of code or multiple codes which can be used and recalled at any instance of time in a programme to optimise its usability and efficiency.\n",
        "To define a function we use keyword \"def\". A function can be with or without parameter."
      ],
      "metadata": {
        "id": "hDxw8gYq33xe"
      }
    }
  ],
  "metadata": {
    "colab": {
      "provenance": []
    },
    "kernelspec": {
      "display_name": "Python 3",
      "name": "python3"
    },
    "language_info": {
      "name": "python"
    }
  },
  "nbformat": 4,
  "nbformat_minor": 0
}