{
  "nbformat": 4,
  "nbformat_minor": 0,
  "metadata": {
    "colab": {
      "provenance": []
    },
    "kernelspec": {
      "name": "python3",
      "display_name": "Python 3"
    },
    "language_info": {
      "name": "python"
    }
  },
  "cells": [
    {
      "cell_type": "markdown",
      "source": [
        "Assignment AWS."
      ],
      "metadata": {
        "id": "ZF-LvOkfs-vF"
      }
    },
    {
      "cell_type": "markdown",
      "source": [
        "Answer 1"
      ],
      "metadata": {
        "id": "UMyWyloptIF9"
      }
    },
    {
      "cell_type": "markdown",
      "source": [
        "Cloud computing is a technology or a technique through which a person or an organisation is able to use, store , organise , execute and access its data and machines virtually from anywhere in the world over the internet.\n",
        "Cloud computing also provides enormous amount of services to its clients to facilitate them at any point of time and at any instance using the internet."
      ],
      "metadata": {
        "id": "n0Xm-3DptYI8"
      }
    },
    {
      "cell_type": "markdown",
      "source": [
        "Answer 2.\n",
        "\n",
        "Cloud computing has following key characteristics.\n",
        "\n",
        "1. Cloud computing provides a lot of services in it be it storage , Virtual machines , kubernetes engine, Docker , Dofferent OS , Machine images and So on.\n",
        "2. Cloud computing provides users with and bunch of services which a user can not rent or buy physically easily.\n",
        "3. Cloud computing provides very low latency of services while execution on its servers and its team continuosly keeps on updating its servers regularly to provide a smooth service to its clients.\n",
        "4. Cloud computing is very cost effective and is somehow very cheap in comparison to physical machines.\n",
        "5. There is no maintenance cost or maintenance labour required in cloud computing.\n",
        "There are a lot of more features of Cloud computing"
      ],
      "metadata": {
        "id": "PXMMYWhVugdi"
      }
    },
    {
      "cell_type": "markdown",
      "source": [
        "Answer 3.\n",
        "\n",
        "Deployment model can be defined as a virtual Computing environment with different requirement of different client on their VMs.\n",
        "\n",
        "Different type of Deployment models are\n",
        "1. Public Cloud Deployment\n",
        "2. Private Cloud Deployment\n",
        "3. Hybrid Cloud Deployment\n",
        "\n",
        "PUBLIC --> These are services provided to users mostly free for all or are priced as per the subsciption of service be it proiced at per second, per minute or per hour or per day and can be used on public internet. In this the provider of cloud assumes the responsibilty of all the maintenace and connectivity of the servers to the VMs of its customers.\n",
        "\n",
        "PRIVATE --> The resources in it are dedicated and are accessible to only one customerwho has / have already paid for it. Privates has benefits of monitoring of services , elasticity , scalibility and ease of service with access control security and resource customization are main features of Private Cloud,\n",
        "\n",
        "HYBRID --> The hybrid cloud is the combination of both Public and private cloud it has all the features of Public and Private cloud at the same time.\n",
        "\n",
        "\n",
        "\n",
        "PRIVATE -->These"
      ],
      "metadata": {
        "id": "JEFKPOLFw8hm"
      }
    },
    {
      "cell_type": "markdown",
      "source": [
        "Answer 4.\n",
        "\n",
        "Service models in Cloud are the services till which a cloud provider can work for as user or client.\n",
        "\n",
        "Different service models in CLoud are\n",
        "1. Infrastructure as a Service (IaaS) --> Provides Computer infrastructure to a client in which he/She can setup their applications , spftwares and data manually\n",
        "2. Software as a Service (Saas) --> Provides software directly to user without any problem of handling, maintenance of software, installation and memory used by software to be not taken care by user.\n",
        "3. Platform as a ssrvice (PaaS) --> Provide integration of hardware and software to a user so that user can easily develop and built their application or website without considering installation of software and  without maintenance of infrastructure(Hardware).\n",
        "\n"
      ],
      "metadata": {
        "id": "4TdMerSY2zkT"
      }
    },
    {
      "cell_type": "markdown",
      "source": [
        "Answer 5.\n",
        "\n",
        "So many Benefits of cloud computing are there few of them are ⁉\n",
        "\n",
        "1. Cost efficient\n",
        "2. Easily accessible\n",
        "3. Time effcient\n",
        "4. Resource efficient\n",
        "5. Space efficient\n",
        "6. No maintenance required by client\n",
        "7. License free\n",
        "8. Secured\n",
        "9. Responsive\n",
        "10. Can be used by amyone.\n"
      ],
      "metadata": {
        "id": "634H8v8E6W31"
      }
    },
    {
      "cell_type": "markdown",
      "source": [
        "Answer 6.\n",
        "\n",
        "AWS is a c;oud Computing service provider which has its origins in Americas is a subsidiary of Amazon the shopping app.\n",
        "AWS is leading cloud Service Provider in todays market and is very usually used Cloud by organisations and Customners due to its cost efficiency and low latency and very low downntime as compared to other cloud providers.\n",
        "\n",
        "AWS is having a lot of services in it thsat are free of cost and are easy to use.\n",
        "\n",
        "AWS provides a lot subscriotion plans of their services to its clients which are budget friendly and easy to be gathered.\n",
        "\n"
      ],
      "metadata": {
        "id": "4_60lvsP7pek"
      }
    },
    {
      "cell_type": "markdown",
      "source": [
        "Answer 7.\n",
        "\n",
        "Benfits of AWS\n",
        "\n",
        "1. Easy to use\n",
        "2. Secured to use.\n",
        "3. Low latency\n",
        "4. Budget Friendly\n",
        "5. Market Leader in cloud Computing\n",
        "6. Is being used by so many so is Reliant.\n",
        " etc.\n",
        "\n"
      ],
      "metadata": {
        "id": "jS_b6JJh9Kqj"
      }
    },
    {
      "cell_type": "code",
      "execution_count": null,
      "metadata": {
        "id": "AhONR-Wus7CX"
      },
      "outputs": [],
      "source": []
    }
  ]
}